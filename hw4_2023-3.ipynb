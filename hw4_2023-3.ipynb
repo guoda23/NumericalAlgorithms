{
 "cells": [
  {
   "cell_type": "markdown",
   "id": "d4c81d3e-6c35-4c9e-9721-dc27a3d00251",
   "metadata": {
    "nbgrader": {
     "grade": false,
     "grade_id": "cell-06d3e5bf55c941ae",
     "locked": true,
     "schema_version": 3,
     "solution": false,
     "task": false
    },
    "tags": []
   },
   "source": [
    "# Homework set 4"
   ]
  },
  {
   "cell_type": "markdown",
   "id": "64728360-8bed-4d1f-bb87-bf746ea66002",
   "metadata": {
    "nbgrader": {
     "grade": false,
     "grade_id": "cell-736ff6bc3e0d0696",
     "locked": true,
     "schema_version": 3,
     "solution": false,
     "task": false
    }
   },
   "source": [
    "Before you turn this problem in, make sure everything runs as expected (in the menubar, select Kernel → Restart Kernel and Run All Cells...).\n",
    "\n",
    "Please **submit this Jupyter notebook through Canvas** no later than **Mon Nov. 27, 9:00**. **Submit the notebook file with your answers (as .ipynb file) and a pdf printout. The pdf version can be used by the teachers to provide feedback. A pdf version can be made using the save and export option in the Jupyter Lab file menu.**\n",
    "\n",
    "Homework is in **groups of two**, and you are expected to hand in original work. Work that is copied from another group will not be accepted."
   ]
  },
  {
   "cell_type": "markdown",
   "id": "d8c33491-f6d6-45df-9857-8fae1d7d446c",
   "metadata": {
    "nbgrader": {
     "grade": false,
     "grade_id": "cell-b13bc5ed16bce8e0",
     "locked": true,
     "schema_version": 3,
     "solution": false,
     "task": false
    }
   },
   "source": [
    "# Exercise 0\n",
    "Guoda Paulauskaite 12255076 & Chayenne Olumuyiwa 12055662"
   ]
  },
  {
   "cell_type": "markdown",
   "id": "40a6166f-8dc2-4eb0-b953-961fe8f7a2ce",
   "metadata": {},
   "source": [
    "# About imports\n",
    "Please import the needed packages by yourself."
   ]
  },
  {
   "cell_type": "markdown",
   "id": "a78e262c-f192-4fe5-853b-03248173a9be",
   "metadata": {},
   "source": [
    "# Sparse matrices\n",
    "A _sparse matrix_ or _sparse array_ is a matrix in which most of the elements are zero. There is no strict definition how many elements need to be zero for a matrix to be considered sparse. In many examples, the number of nonzeros per row or column is a small fraction, a few percent or less, of the total number of elements of the row or column. By contrast, if most of the elements are nonzero, then the matrix is considered _dense_. \n",
    "\n",
    "In the context of software for scientific computing, a sparse matrix typically refers to a storage format, in which elements which are known to be zero are not stored. In Python, the library `scipy.sparse` defines several sparse matrix classes, such as `scipy.sparse.csr_array`. To construct such an object, one passes for each nonzero element the value, and the row and column coordinates. In some cases, one can also just pass the nonzero (off-)diagonals, see `scipy.sparse.diags`.\n",
    "\n",
    "Functions for dense matrices do not always work with sparse matrices. For example for the product of a sparse matrix with a (dense) vector, there is the member function `scipy.sparse.csr_array.dot`, and for solving linear equations involving a sparse matrix, there is the function `scipy.sparse.linalg.spsolve`."
   ]
  },
  {
   "cell_type": "code",
   "execution_count": 2,
   "id": "a15365c2-c8be-49b7-b74f-e6ef30ffd26d",
   "metadata": {},
   "outputs": [],
   "source": [
    "# Import some basic packages\n",
    "import numpy as np\n",
    "import matplotlib.pyplot as plt\n",
    "import math\n",
    "import matplotlib.pyplot as plt"
   ]
  },
  {
   "cell_type": "code",
   "execution_count": 3,
   "id": "5af47d5f-d55a-4902-b99c-9ce793726c32",
   "metadata": {},
   "outputs": [
    {
     "name": "stdout",
     "output_type": "stream",
     "text": [
      "When printing a sparse matrix, it shows its nonzero entries:\n",
      "  (0, 0)\t4.0\n",
      "  (0, 2)\t9.0\n",
      "  (1, 1)\t7.0\n",
      "  (3, 3)\t5.0\n",
      "If you want to see its `dense` matrix form, you have to use `mat.toarray()`:\n",
      "[[4. 0. 9. 0.]\n",
      " [0. 7. 0. 0.]\n",
      " [0. 0. 0. 0.]\n",
      " [0. 0. 0. 5.]]\n",
      "For x=[1 2 3 4], Mx = [31. 14.  0. 20.]\n"
     ]
    }
   ],
   "source": [
    "from scipy.sparse import csr_array\n",
    "\n",
    "# This is how to create a sparse matrix from a given list of (row, column, value) tuples.\n",
    "row  = [0,   3,   1,   0]\n",
    "col  = [0,   3,   1,   2]\n",
    "data = [4.0, 5.0, 7.0, 9.0]\n",
    "M = csr_array((data, (row, col)), shape=(4, 4))\n",
    "\n",
    "print(\"When printing a sparse matrix, it shows its nonzero entries:\")\n",
    "print(M)\n",
    "\n",
    "print(\"If you want to see its `dense` matrix form, you have to use `mat.toarray()`:\")\n",
    "print(M.toarray())\n",
    "\n",
    "# This is how to perform matrix-vector products.\n",
    "x = np.array([1, 2, 3, 4])\n",
    "print(\"For x={}, Mx = {}\".format(x, M.dot(x)))"
   ]
  },
  {
   "cell_type": "code",
   "execution_count": 4,
   "id": "7f1c616d-9651-4da7-94fc-3e53f2362250",
   "metadata": {},
   "outputs": [
    {
     "name": "stdout",
     "output_type": "stream",
     "text": [
      "This matrix has values on its diagonal and on offdiagonals 1 and 2 rows ABOVE it.\n",
      "[[1. 1. 1. 0.]\n",
      " [0. 2. 2. 2.]\n",
      " [0. 0. 3. 3.]\n",
      " [0. 0. 0. 4.]]\n",
      "This matrix has values on its diagonal and on offdiagonals 1 and 2 rows BELOW it.\n",
      "[[1. 0. 0. 0.]\n",
      " [1. 2. 0. 0.]\n",
      " [1. 2. 3. 0.]\n",
      " [0. 2. 3. 4.]]\n",
      "If you want to visualize the matrix for yourself, use `plt.imshow`:\n"
     ]
    },
    {
     "data": {
      "image/png": "[encoded data removed]",
      "text/plain": [
       "<Figure size 640x480 with 2 Axes>"
      ]
     },
     "metadata": {},
     "output_type": "display_data"
    },
    {
     "name": "stdout",
     "output_type": "stream",
     "text": [
      "For b=[1 2 3 4], the solution x to Mx=b is [1.         0.5        0.33333333 0.5       ]\n",
      "And indeed, Mx - b = [0. 0. 0. 0.]\n"
     ]
    }
   ],
   "source": [
    "from scipy.sparse import diags, SparseEfficiencyWarning\n",
    "from scipy.sparse.linalg import spsolve\n",
    "import warnings\n",
    "warnings.simplefilter('ignore', SparseEfficiencyWarning)  # Suppress confusing warning\n",
    "\n",
    "# This is how to create a sparse matrix from a given list of subdiagonals.\n",
    "diagonals = [[1, 2, 3, 4], [1, 2, 3], [1, 2]]\n",
    "M = diags(diagonals, [0, 1, 2])\n",
    "print(\"This matrix has values on its diagonal and on offdiagonals 1 and 2 rows ABOVE it.\")\n",
    "print(M.toarray())\n",
    "\n",
    "M = diags(diagonals, [0, -1, -2])\n",
    "print(\"This matrix has values on its diagonal and on offdiagonals 1 and 2 rows BELOW it.\")\n",
    "print(M.toarray())\n",
    "\n",
    "print(\"If you want to visualize the matrix for yourself, use `plt.imshow`:\")\n",
    "plt.imshow(M.toarray())\n",
    "plt.colorbar()\n",
    "plt.show()\n",
    "\n",
    "# This is how to solve sparse systems.\n",
    "b = np.array([1, 2, 3, 4])\n",
    "x = spsolve(M, b)\n",
    "print(\"For b={}, the solution x to Mx=b is {}\".format(b, x))\n",
    "print(\"And indeed, Mx - b = {}\".format(M.dot(x) - b))"
   ]
  },
  {
   "cell_type": "markdown",
   "id": "972d8aca-b5f4-48a5-8a43-f3dccb0ea9ef",
   "metadata": {},
   "source": [
    "--------\n",
    "# Exercise 1\n",
    "Consider the following boundary value problem involving a nonlinear ordinary differential equation:\n",
    "\n",
    "$$ \\tag{1} y''(x) + \\exp(y(x)) = 0, \\quad 0 < x < 1, \\quad y(0) = y(1) = 0.$$\n",
    "\n",
    "The purpose of this exercise is to approximate the solution to this boundary value problem, by discretizing the problem and then solving the resulting system of nonlinear equations. "
   ]
  },
  {
   "cell_type": "markdown",
   "id": "cb770a03-ba0f-4de2-b326-c429868fa1ac",
   "metadata": {},
   "source": [
    "Problem (1) will be discretized using finite differences. Suppose we use $n+2$ discretization points for $x$, denoted $x_k = kh$ for $k \\in \\{0, \\ldots, n+1\\}$ and $h = 1/(n+1)$. The approximate solution is denoted $y_k = y(x_k)$. \n",
    "\n",
    "We will use a _second-order central finite difference_ approximation for the second derivative: \n",
    "\n",
    "$$ \\tag{2} y''(x_k) \\approx \\frac{y_{k-1} - 2 y_k + y_{k+1}}{h^2}.$$\n",
    "\n",
    "The term $\\exp(y(x_k))$ can simply be approximated by $\\exp(y_k)$. Thus for $x=x_k$, equation (1) becomes\n",
    "\n",
    "$$ \\tag{3} \\frac{y_{k-1} - 2 y_k + y_{k+1}}{h^2} + \\exp y_k = 0, \\quad k = 1, \\ldots, n.$$\n",
    "\n",
    "The boundary conditions (the conditions $y(0) = y(1) = 1$), lead to the requirement that $y_0 = y_{n+1} = 0$. To find the remaining values $y_k$, $k=1, \\ldots, n$, equation (3) will be used for $k = 1, \\ldots, n$. In this way, one obtains $n$ equations for $n$ unknowns, to which, in principle, a rootfinding method can be applied.\n",
    "\n",
    "We will write $\\vec y = \\begin{bmatrix} y_1 \\\\ \\vdots \\\\ y_n \\end{bmatrix}$ for the vector of values to be determined. \n"
   ]
  },
  {
   "cell_type": "markdown",
   "id": "7c341388-63b4-4b7a-aeaf-9dcf4173cefc",
   "metadata": {},
   "source": [
    "## (a)  (2 pts)\n",
    "As a first step, finish the function `SecondDerMatrix` that returns a matrix $\\bf{M}$ that maps the vector $\\vec y$ to the vector of the approximate values $y''(x_k)$, $k=1, \\ldots, n$ given in (2). To get full points for this part of the exercise you must create output in the form of a sparse matrix."
   ]
  },
  {
   "cell_type": "code",
   "execution_count": 5,
   "id": "dcbf2b55-d129-4cbe-a517-416c2682d8d5",
   "metadata": {},
   "outputs": [],
   "source": [
    "from scipy.sparse import csr_array\n",
    "\n",
    "def SecondDerMatrix(n):\n",
    "    '''Creates a matrix  𝐌 that maps the vector 𝑦⃗ to the vector of the approximate values 𝑦″(𝑥𝑘)\n",
    "    Input: n, the dimension of matrix M and length of vector y\n",
    "    Output: matrix M (nxn)'''\n",
    "    \n",
    "    #Calculate h\n",
    "    h = 1/(n+1)\n",
    "\n",
    "    #create M\n",
    "    diagonals = [[-2]*n, [1]*(n-1), [1]*(n-1)]\n",
    "    M = (1/h**2) * diags(diagonals, [0, 1, -1])\n",
    "    return M\n"
   ]
  },
  {
   "cell_type": "markdown",
   "id": "402404a4-8673-4529-b452-94c05e994cf2",
   "metadata": {},
   "source": [
    "## (b)  (1 pt)\n",
    "Second-order central finite differences are exact for quadratic functions. In order to test your implementation, choose $n=10$ and apply the second derivative matrix from part (a) to a quadratic function $y(x)$ with $y(0) = y(1) = 0$ for which you know the second derivative $y''(x)$."
   ]
  },
  {
   "cell_type": "code",
   "execution_count": 6,
   "id": "dea2b67c-4c28-42f3-9555-fdc2795741ab",
   "metadata": {},
   "outputs": [
    {
     "name": "stdout",
     "output_type": "stream",
     "text": [
      "y vector with second derivative approximation: [2. 2. 2. 2. 2. 2. 2. 2. 2. 2.]\n",
      "True derivative value = 2\n"
     ]
    }
   ],
   "source": [
    "def x(n):\n",
    "    '''Discretizes x by using n+2 discretization points and returns vector x.\n",
    "    Input: n\n",
    "    Output: vector x (length n+2)'''\n",
    "    h = 1/(n+1)\n",
    "    k = range(0, n+2)\n",
    "    x = [h*i for i in k]\n",
    "    return x\n",
    "\n",
    "\n",
    "def quadratic_with_roots_1_0(x):\n",
    "    '''Computes y = x(x-1) on some input vector x.\n",
    "    Input: Vector x\n",
    "    Output: Vector y'''\n",
    "    y = [i*(i-1) for i in x]\n",
    "    return y\n",
    "\n",
    "\n",
    "#Approximate the derivative for n=10\n",
    "n = 10\n",
    "y = quadratic_with_roots_1_0(x(n))\n",
    "M = SecondDerMatrix(n)\n",
    "y_second_der = M.dot(y[1:-1])\n",
    "\n",
    "print(f'y vector with second derivative approximation: {y_second_der}')\n",
    "print('True derivative value = 2')"
   ]
  },
  {
   "cell_type": "markdown",
   "id": "3c6b937a-a06a-4d24-ae49-d036ef88ba03",
   "metadata": {},
   "source": [
    "## (c) (2 pts)\n",
    "\n",
    "Defining $\\vec y = \\begin{bmatrix} y_1 \\\\ \\vdots \\\\ y_n \\end{bmatrix}$ and \n",
    "$E(\\vec y) = \\begin{bmatrix} \\exp(y_1) \\\\ \\vdots \\\\ \\exp(y_n) \\end{bmatrix}$, the equations (3) can be written in the form\n",
    "\n",
    "$$ F(\\vec y) := {\\bf M} \\cdot \\vec y + E(\\vec y) = \\vec 0. $$\n",
    "\n",
    "Finish the function `F` that defines $F(\\vec y) = {\\bf M} \\cdot \\vec y + E(\\vec y)$.\n",
    "Finish the function `JacobianF` that computes the Jacobian ${\\bf J}_F(\\vec y)$ of $F(\\vec y)$.\n",
    "To get full points for this part of the exercise, the Jacobian must be computed in the form of a sparse matrix."
   ]
  },
  {
   "cell_type": "code",
   "execution_count": 7,
   "id": "f693cfc3-9639-419a-b8f8-5179c3e60123",
   "metadata": {},
   "outputs": [],
   "source": [
    "from scipy.sparse.linalg import spsolve\n",
    "\n",
    "def F(y):\n",
    "    '''Computes F(y) = M * y + E(y) for some input vector y\n",
    "    Input: Vector y\n",
    "    Output: Vector M * y + E(y)'''\n",
    "    \n",
    "    #Create the secondary matrix M\n",
    "    n = len(y)\n",
    "    M = SecondDerMatrix(n)\n",
    "    \n",
    "    My = M.dot(y)\n",
    "    Ey = np.exp(y)\n",
    "    equation = My + Ey  \n",
    "    return equation\n",
    "\n",
    "\n",
    "def JacobianF(y):\n",
    "    n = len(y)\n",
    "    h = 1/(n+1)\n",
    "    diagonals = []\n",
    "    \n",
    "    #Calculate elements in the main diagonal (diagonal 0)\n",
    "    diagonal_0 = [((1/h**2) * (-2) + np.exp(i)) for i in y]\n",
    "    #Calculate elements in the offdiagonals (diagonal 1 and -1)\n",
    "    diagonal_1_neg_1 = [(1/h**2)]*(n-1)\n",
    "    \n",
    "    diagonals.append(diagonal_0)\n",
    "    diagonals.append(diagonal_1_neg_1)\n",
    "    diagonals.append(diagonal_1_neg_1)\n",
    "    \n",
    "    J =  diags(diagonals, [0, 1, -1])\n",
    "    return J"
   ]
  },
  {
   "cell_type": "markdown",
   "id": "8da07053-496c-4e60-a278-422c113ff702",
   "metadata": {},
   "source": [
    "## (d)  (3 pts)\n",
    "1. Write down the first order Taylor expansion $T_F(\\vec y, \\vec s)$ for $F(\\vec y+\\vec s)$.\n",
    "2. In order to check your implementation of the Jacobian matrix, compute and print both $F(\\vec y+\\vec s)$ and its first order Taylor approximation $T_F(\\vec y, \\vec s)$ for a choice $\\vec y$ and $\\vec s$.\n",
    "3. Verify numerically that the error $||F(\\vec y + \\vec s) - T_F(\\vec y, \\vec s)||_2$ is $\\mathcal O(||\\vec s||_2^2)$. Hint: take vectors $\\vec s$ with $\\|\\vec s\\|_2 = \\mathcal O(h)$  for multiple values for $h$, e.g. $h = 10^{-k}$ for a range of $k$. "
   ]
  },
  {
   "cell_type": "markdown",
   "id": "48d3fd40-cff8-40b6-8e6e-5aa2a48fd4e0",
   "metadata": {},
   "source": [
    "Subquestion 1. $F(\\vec y + \\vec s) \\approx T_F(\\vec y, \\vec s) = F(\\vec y) + J_F(\\vec y) \\vec s = {\\bf M} \\cdot \\vec y + E(\\vec y) + J_F(\\vec y) \\vec s$"
   ]
  },
  {
   "cell_type": "code",
   "execution_count": 8,
   "id": "bb9cb01a-1fca-400f-b860-c4efaceada23",
   "metadata": {},
   "outputs": [
    {
     "name": "stdout",
     "output_type": "stream",
     "text": [
      "F(y + s) is                  [ 26.25         2.74560102   7.53832493 -80.30276741]\n",
      "Taylor approximation of F is [ 26.25         2.74546465   7.53683722 -80.31189697]\n"
     ]
    },
    {
     "data": {
      "image/png": "[encoded data removed]",
      "text/plain": [
       "<Figure size 640x480 with 1 Axes>"
      ]
     },
     "metadata": {},
     "output_type": "display_data"
    }
   ],
   "source": [
    "# Subquestions 2 and 3.\n",
    "\n",
    "#2.\n",
    "def Taylor_approx(y, s):\n",
    "    return F(y) + JacobianF(y).dot(s)\n",
    "\n",
    "#Verify approximation with some y and s\n",
    "y = np.array(range(0, 4))\n",
    "s = np.array([i/100 for i in range(0, len(y))])\n",
    "print(f'F(y + s) is                  {F(y+s)}')\n",
    "print(f'Taylor approximation of F is {Taylor_approx(y, s)}')\n",
    "\n",
    "\n",
    "#3.\n",
    "#set length of s and y\n",
    "n = 10\n",
    "y = np.array(range(0, n))\n",
    "s_init = np.array(range(0, n))\n",
    "\n",
    "error_list = []\n",
    "s_norm_squared_list = []\n",
    "h_list = []\n",
    "\n",
    "for k in range(0, 11):\n",
    "    h = 10**(-k)\n",
    "    h_list.append(h)\n",
    "    \n",
    "    #normalize s and multiply to be magnitude h\n",
    "    s = (h/np.linalg.norm(s_init))*s_init\n",
    "    error = np.linalg.norm(F(y+s) - Taylor_approx(y, s))\n",
    "    \n",
    "    #Store data\n",
    "    error_list.append(error)\n",
    "    s_norm_squared_list.append(np.linalg.norm(s)**2)\n",
    "    \n",
    "    \n",
    "plt.loglog(h_list, error_list, label = '$||F(\\\\vec y + \\\\vec s) - T_F(\\\\vec y, \\\\vec s)||_2$')\n",
    "plt.loglog(h_list, s_norm_squared_list, label = '$||\\\\vec s||_2^2$')\n",
    "plt.legend()\n",
    "plt.title('Comparing the Magnitude of the Taylor\\n Approximation Error with $||\\\\vec s||_2^2$')\n",
    "plt.xlabel('$||\\\\vec s||_2$')\n",
    "plt.show()\n"
   ]
  },
  {
   "cell_type": "markdown",
   "id": "f5e34e29",
   "metadata": {},
   "source": [
    "As seen above, the Taylor approximation error follows $\\mathcal O(||\\vec s||_2^2)$ as the trend lines are parallel, with $||\\vec s||_2^2$ being slightly below the magnitude of error. It is okay that the lines do not coincide because of the $\\mathcal O$ notation. The lines would in fact coincide if some constant was added, but by definition this constant is ommited in the $\\mathcal O$ notation, making both plotted values of the same $\\mathcal O$."
   ]
  },
  {
   "cell_type": "markdown",
   "id": "c594be9d-8265-4aa0-aa7d-bd9f30e167aa",
   "metadata": {},
   "source": [
    "## (e) (2 pts)\n",
    "1. Finish the function `NewtonSolve` below to solve the system of equations.\n",
    "2. Take $n=40$, and experiment with your function. Try to find a choice of `y0` such that the method doesn't converge, as well as a choice of `y0` such that the method converges. In your answer, list the types of convergence behavior you found. Show a convergent example (if you found any) and a nonconvergent example (if you found any). Show the solutions you found for each example."
   ]
  },
  {
   "cell_type": "code",
   "execution_count": 67,
   "id": "c5adc7dd-783d-4849-b84c-94da20631c9f",
   "metadata": {},
   "outputs": [],
   "source": [
    "# Subquestion 1.\n",
    "def NewtonSolve(y0, K):\n",
    "    \"\"\" Use Newton's method to solve F(y) = 0 with initial guess y0 and K iterations.\n",
    "    Input: y0 (initial guess), K iterations\n",
    "    Output: y (approximation vector at the last iteration) and itermittent results, called newton_iterations\"\"\"\n",
    "    y = y0\n",
    "    \n",
    "    intermittent_y_norms = []\n",
    "\n",
    "    for K in range(K):\n",
    "        s = spsolve(JacobianF(y), -F(y))\n",
    "        y+= s\n",
    "        \n",
    "        \n",
    "        intermittent_y_norms.append(np.linalg.norm(y))\n",
    "    return y, intermittent_y_norms"
   ]
  },
  {
   "cell_type": "code",
   "execution_count": 128,
   "id": "9ce50cda-6dcd-4d97-a0d3-2c185ce88875",
   "metadata": {},
   "outputs": [
    {
     "name": "stdout",
     "output_type": "stream",
     "text": [
      "for initial value set 1 after 90 iterations, the y norm is 0.6550385897841771\n",
      "[0.01310082 0.0255989  0.03748668 0.04875685 0.05940242 0.06941669\n",
      " 0.07879331 0.08752629 0.09560996 0.10303907 0.10980872 0.11591445\n",
      " 0.12135218 0.12611827 0.13020952 0.13362316 0.13635686 0.13840878\n",
      " 0.1397775  0.1404621  0.1404621  0.1397775  0.13840878 0.13635686\n",
      " 0.13362316 0.13020952 0.12611827 0.12135218 0.11591445 0.10980872\n",
      " 0.10303907 0.09560996 0.08752629 0.07879331 0.06941669 0.05940242\n",
      " 0.04875685 0.03748668 0.0255989  0.01310082]\n",
      "for initial value set 2 after 90 iterations, the y norm is 0.6550385897841771\n",
      "[0.01310082 0.0255989  0.03748668 0.04875685 0.05940242 0.06941669\n",
      " 0.07879331 0.08752629 0.09560996 0.10303907 0.10980872 0.11591445\n",
      " 0.12135218 0.12611827 0.13020952 0.13362316 0.13635686 0.13840878\n",
      " 0.1397775  0.1404621  0.1404621  0.1397775  0.13840878 0.13635686\n",
      " 0.13362316 0.13020952 0.12611827 0.12135218 0.11591445 0.10980872\n",
      " 0.10303907 0.09560996 0.08752629 0.07879331 0.06941669 0.05940242\n",
      " 0.04875685 0.03748668 0.0255989  0.01310082]\n",
      "for initial value set 3 after 90 iterations, the y norm is 0.6550385897841772\n",
      "[0.01310082 0.0255989  0.03748668 0.04875685 0.05940242 0.06941669\n",
      " 0.07879331 0.08752629 0.09560996 0.10303907 0.10980872 0.11591445\n",
      " 0.12135218 0.12611827 0.13020952 0.13362316 0.13635686 0.13840878\n",
      " 0.1397775  0.1404621  0.1404621  0.1397775  0.13840878 0.13635686\n",
      " 0.13362316 0.13020952 0.12611827 0.12135218 0.11591445 0.10980872\n",
      " 0.10303907 0.09560996 0.08752629 0.07879331 0.06941669 0.05940242\n",
      " 0.04875685 0.03748668 0.0255989  0.01310082]\n",
      "for initial value set 4 after 90 iterations, the y norm is 17.644610609131313\n",
      "[0.2640206  0.52726657 0.78950463 1.05043258 1.30965982 1.56668306\n",
      " 1.82085638 2.07135501 2.31713289 2.55687477 2.78894534 3.01134081\n",
      " 3.22165143 3.41704861 3.59431414 3.7499314  3.88025528 3.98176502\n",
      " 4.05138209 4.0868071  4.0868071  4.05138209 3.98176502 3.88025528\n",
      " 3.7499314  3.59431414 3.41704861 3.22165143 3.01134081 2.78894534\n",
      " 2.55687477 2.31713289 2.07135501 1.82085638 1.56668306 1.30965982\n",
      " 1.05043258 0.78950463 0.52726657 0.2640206 ]\n",
      "for initial value set 5 after 90 iterations, the y norm is 363.0832137330392\n",
      "[  9.95560401   8.09205291   5.99900882  10.65744623  12.4809116\n",
      "  14.30868898 122.84486293  44.70298601  28.46548714  12.08861221\n",
      "  23.87484423  61.89873493  59.09249244  37.4300821   72.12997039\n",
      " 100.49914875  46.01304359  39.02390401  21.06227821 107.78592535\n",
      " 194.50949952  83.39209817  29.15890055  20.76738655  24.76428562\n",
      "  26.69007715  24.60341404   6.62275766  20.40497029   8.83898586\n",
      "  20.23790154  15.779036    10.90437332  37.8569708   72.20407037\n",
      "  59.39320343  44.2719544   91.73430427  53.84104407   6.76422082]\n"
     ]
    },
    {
     "data": {
      "text/plain": [
       "<matplotlib.legend.Legend at 0x16a9d6350>"
      ]
     },
     "execution_count": 128,
     "metadata": {},
     "output_type": "execute_result"
    },
    {
     "data": {
      "image/png": "[encoded data removed]",
      "text/plain": [
       "<Figure size 640x480 with 1 Axes>"
      ]
     },
     "metadata": {},
     "output_type": "display_data"
    }
   ],
   "source": [
    "# Subquestion 2, code part\n",
    "n = 40\n",
    "\n",
    "y0_1 = np.zeros(n)                                #converges\n",
    "y0_2 = np.ones(n)                                 #converges\n",
    "y0_3 = y0_2 * 2                                   #converges\n",
    "y0_4 = y0_2 * 3                                   #converges\n",
    "y0_5 = np.array(range(1, n+1),  dtype=np.float64)   #diverges\n",
    "\n",
    "y0s = [y0_1, y0_2, y0_3, y0_4, y0_5]\n",
    "\n",
    "K = 90\n",
    "i = 1\n",
    "\n",
    "for y0 in y0s:\n",
    "    label = f'y0 = [{round(y0[0])},...,{round(y0[n-1])}]'\n",
    "    y, newton_iterations = NewtonSolve(y0, K)\n",
    "    plt.loglog(range(K), newton_iterations, label = label )\n",
    "    print(f'for initial value set {i} after {K} iterations, the y norm is {np.linalg.norm(y)}')\n",
    "    print(y)\n",
    "    i+=1\n",
    "    \n",
    "\n",
    "plt.ylim(10**(-1), 10**3)\n",
    "plt.ylabel('y Norm')\n",
    "plt.xlabel('Iteration, K')\n",
    "plt.title('Convergence Behaviour of the Newton Method for different $y_0$')\n",
    "plt.legend()"
   ]
  },
  {
   "cell_type": "markdown",
   "id": "441c242a-ec62-4761-b3d5-1aaf00ed3ab2",
   "metadata": {},
   "source": [
    "In the figure above we can see that for 90 iterations, with initial values $ \\vec y_0 = [0,...,0] $, $ \\vec y_0 = [1,...,1] $ and  $ \\vec y_0 = [2,...,2] $, Newton's method converges towards root $\\vec y$ with $||\\vec y||_2 = 0.655$, given by $\\vec y =$\n",
    "\n",
    "\\begin{align*}\n",
    "&[0.01310082, 0.0255989,  0.03748668, 0.04875685, 0.05940242, 0.06941669, \\\\\n",
    "&0.07879331, 0.08752629, 0.09560996, 0.10303907, 0.10980872, 0.11591445, \\\\\n",
    "&0.12135218, 0.12611827, 0.13020952, 0.13362316, 0.13635686, 0.13840878, \\\\\n",
    "&0.1397775,  0.1404621,  0.1404621,  0.1397775,  0.13840878, 0.13635686, \\\\\n",
    "&0.13362316, 0.13020952, 0.12611827, 0.12135218, 0.11591445, 0.10980872, \\\\\n",
    "&0.10303907, 0.09560996, 0.08752629, 0.07879331, 0.06941669, 0.05940242, \\\\\n",
    "&0.04875685, 0.03748668, 0.0255989,  0.01310082].\n",
    "\\end{align*}\n",
    "\n",
    "\n",
    "For the initial values $\\vec y_0 = [1,...,40]$, the method diverges. For initial values $\\vec y_0 = [4,...,4] $ the iteration scheme does not diverge, but remains stable around the same $\\vec y$ = \n",
    "\\begin{align*}\n",
    "&[0.2640206,  0.52726657, 0.78950463, 1.05043258, 1.30965982, 1.56668306, \\\\\n",
    "&1.82085638, 2.07135501, 2.31713289, 2.55687477, 2.78894534, 3.01134081, \\\\\n",
    "&3.22165143, 3.41704861, 3.59431414, 3.7499314,  3.88025528, 3.98176502, \\\\\n",
    "&4.05138209, 4.0868071,  4.0868071,  4.05138209, 3.98176502, 3.88025528, \\\\\n",
    "&3.7499314,  3.59431414, 3.41704861, 3.22165143, 3.01134081, 2.78894534, \\\\\n",
    "&2.55687477, 2.31713289, 2.07135501, 1.82085638, 1.56668306, 1.30965982, \\\\\n",
    "&1.05043258, 0.78950463, 0.52726657, 0.2640206].\n",
    "\\end{align*}\n",
    "\n",
    "This illustrates how different choices for initial value $y_0$ result in different root outcomes for $y$. For the iteration number K=90 the scheme appears to diverge for $\\vec y_0 = [4,...,4] $ and  $\\vec y_0 = [1,...,40]$, which can be explained by the relatively large distance from the actual solution for y. For values of $y_0$ that are closer to the actual solution $y$, the root is indeed found within the number of specified iterations."
   ]
  }
 ],
 "metadata": {
  "kernelspec": {
   "display_name": "Python 3 (ipykernel)",
   "language": "python",
   "name": "python3"
  },
  "language_info": {
   "codemirror_mode": {
    "name": "ipython",
    "version": 3
   },
   "file_extension": ".py",
   "mimetype": "text/x-python",
   "name": "python",
   "nbconvert_exporter": "python",
   "pygments_lexer": "ipython3",
   "version": "3.11.4"
  }
 },
 "nbformat": 4,
 "nbformat_minor": 5
}
