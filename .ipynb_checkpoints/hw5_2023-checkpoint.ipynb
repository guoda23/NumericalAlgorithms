{
 "cells": [
  {
   "cell_type": "markdown",
   "id": "c19c262e-c3b6-44b3-9f2b-ced7e9a749e0",
   "metadata": {
    "nbgrader": {
     "grade": false,
     "grade_id": "cell-06d3e5bf55c941ae",
     "locked": true,
     "schema_version": 3,
     "solution": false,
     "task": false
    },
    "tags": []
   },
   "source": [
    "# Homework set 5"
   ]
  },
  {
   "cell_type": "markdown",
   "id": "27370c86-4723-45ba-b362-842cf7a0ea10",
   "metadata": {
    "nbgrader": {
     "grade": false,
     "grade_id": "cell-736ff6bc3e0d0696",
     "locked": true,
     "schema_version": 3,
     "solution": false,
     "task": false
    }
   },
   "source": [
    "Before you turn this problem in, make sure everything runs as expected (in the menubar, select Kernel → Restart Kernel and Run All Cells...).\n",
    "\n",
    "Please **submit this Jupyter notebook through Canvas** no later than **Mon Dec. 4, 9:00**. **Submit the notebook file with your answers (as .ipynb file) and a pdf printout. The pdf version can be used by the teachers to provide feedback. A pdf version can be made using the save and export option in the Jupyter Lab file menu.**\n",
    "\n",
    "Homework is in **groups of two**, and you are expected to hand in original work. Work that is copied from another group will not be accepted."
   ]
  },
  {
   "cell_type": "markdown",
   "id": "ea03b3f8-0634-4301-b993-2e01c6ca38ee",
   "metadata": {
    "nbgrader": {
     "grade": false,
     "grade_id": "cell-b13bc5ed16bce8e0",
     "locked": true,
     "schema_version": 3,
     "solution": false,
     "task": false
    }
   },
   "source": [
    "# Exercise 0"
   ]
  },
  {
   "cell_type": "markdown",
   "id": "1bf8a06b-e442-4c9d-97fe-1b8fdbfe4020",
   "metadata": {
    "nbgrader": {
     "grade": true,
     "grade_id": "cell-fd464f55ba436b1c",
     "locked": false,
     "points": 0,
     "schema_version": 3,
     "solution": true,
     "task": false
    }
   },
   "source": [
    "\n",
    "Guoda Paulauskaite 12255076 & Chayenne Olumuyiwa 12055662"
   ]
  },
  {
   "cell_type": "markdown",
   "id": "50472bda-279b-416b-9c5b-6fc3b1ff814c",
   "metadata": {
    "tags": []
   },
   "source": [
    "# Exercise 1 (6 points)\n",
    "\n",
    "A bacterial population $P$ grows according to the geometric progression\n",
    "\n",
    "$$P_t = rP_{t-1}$$\n",
    "\n",
    "Where r is the growth rate. The following population counts $P_1 ,\\ldots, P_8$ (in billions) are observed:"
   ]
  },
  {
   "cell_type": "code",
   "execution_count": 3,
   "id": "05ff320c-517a-45da-99a8-ca87efc419a7",
   "metadata": {},
   "outputs": [],
   "source": [
    "import numpy as np\n",
    "import scipy\n",
    "import matplotlib.pyplot as plt\n",
    "\n",
    "data = np.array( [0.19, 0.36, 0.69, 1.3, 2.5, 4.7, 8.5, 14] )"
   ]
  },
  {
   "cell_type": "markdown",
   "id": "e7bc3b80-e915-4854-a878-35d0ba645f80",
   "metadata": {},
   "source": [
    "# (a)\n",
    "Read chapter 6.6 on Nonlinear Least squares. Use the Gauss-Newton Method to fit the model function $f(t, x_1, x_2) = x_1\\!\\cdot x_2^t$ to the data. Find estimates for the initial population $P_0=x_1$ and the growth rate $r=x_2$. Implement the Gauss-Newton method yourself. You may use linear algebra functions from `scipy` and `numpy`. Plot the datapoints and the curve fitted to the data in a semilogarithmic plot.\n",
    "\n",
    "It is best if you define your function for Gauss-Newton separately from the definitions associated with the bacterial model."
   ]
  },
  {
   "cell_type": "code",
   "execution_count": 4,
   "id": "c492fe88-c321-4b8c-9bd8-236f815b1369",
   "metadata": {},
   "outputs": [],
   "source": [
    "def Jacobian(x1, x2):\n",
    "    '''Computes the Jacobian matrix for f = x1*x2^t for 8 data points.'''\n",
    "    \n",
    "    #preallocate array\n",
    "    J = np.zeros((8, 2))\n",
    "    \n",
    "    for t in range(0, 8):\n",
    "        J[t, 0] = -(x2**t)\n",
    "        J[t, 1] = -t*x1*(x2**(t-1))\n",
    "        \n",
    "    return J\n",
    "\n",
    "def Gauss_Newton(x_0, data, k):\n",
    "    ''' \n",
    "    Uses the Gauss-Newton method to fit the model function f(t, x1, x2) = x1 * x2 ^ t to data starting from initial \n",
    "    value x_0. \n",
    "    \n",
    "    Input: initial value x_0 (list), data points data (list), number of iterations k (int)\n",
    "    Output: Result of Gauss-Newton method x (list)\n",
    "    '''\n",
    "    \n",
    "    x = x_0\n",
    "    n = len(data)\n",
    "    \n",
    "    for j in range (k):\n",
    "        x1 = x[0]\n",
    "        x2 = x[1]\n",
    "        y_approx = []\n",
    "\n",
    "        for t in range(8):\n",
    "            y = x1 * x2**t\n",
    "            y_approx.append(y)\n",
    "\n",
    "        residual = data - np.array(y_approx)\n",
    "        J = Jacobian(x1, x2)\n",
    "        sk = np.linalg.lstsq(J, -residual,rcond=None)[0]\n",
    "        \n",
    "        x += sk\n",
    "        \n",
    "    return x"
   ]
  },
  {
   "cell_type": "code",
   "execution_count": 5,
   "id": "d574b3c1-5a64-47d4-b0d4-45cd87216829",
   "metadata": {},
   "outputs": [
    {
     "ename": "NameError",
     "evalue": "name 'time_points' is not defined",
     "output_type": "error",
     "traceback": [
      "\u001b[0;31m---------------------------------------------------------------------------\u001b[0m",
      "\u001b[0;31mNameError\u001b[0m                                 Traceback (most recent call last)",
      "\u001b[0;32m/tmp/ipykernel_108384/1323372626.py\u001b[0m in \u001b[0;36m<module>\u001b[0;34m\u001b[0m\n\u001b[1;32m     17\u001b[0m     \u001b[0mfinal_y_GN\u001b[0m\u001b[0;34m.\u001b[0m\u001b[0mappend\u001b[0m\u001b[0;34m(\u001b[0m\u001b[0my\u001b[0m\u001b[0;34m)\u001b[0m\u001b[0;34m\u001b[0m\u001b[0;34m\u001b[0m\u001b[0m\n\u001b[1;32m     18\u001b[0m \u001b[0;34m\u001b[0m\u001b[0m\n\u001b[0;32m---> 19\u001b[0;31m \u001b[0mplt\u001b[0m\u001b[0;34m.\u001b[0m\u001b[0mscatter\u001b[0m\u001b[0;34m(\u001b[0m\u001b[0mtime_points\u001b[0m\u001b[0;34m,\u001b[0m \u001b[0mdata\u001b[0m\u001b[0;34m,\u001b[0m \u001b[0mlabel\u001b[0m\u001b[0;34m=\u001b[0m\u001b[0;34m'Actual Data Points'\u001b[0m\u001b[0;34m)\u001b[0m\u001b[0;34m\u001b[0m\u001b[0;34m\u001b[0m\u001b[0m\n\u001b[0m\u001b[1;32m     20\u001b[0m \u001b[0mplt\u001b[0m\u001b[0;34m.\u001b[0m\u001b[0mplot\u001b[0m\u001b[0;34m(\u001b[0m\u001b[0mtime_points\u001b[0m\u001b[0;34m,\u001b[0m \u001b[0mfinal_y_GN\u001b[0m\u001b[0;34m,\u001b[0m \u001b[0mlabel\u001b[0m\u001b[0;34m=\u001b[0m\u001b[0;34m'Gauss-Newton approximation'\u001b[0m\u001b[0;34m,\u001b[0m \u001b[0mcolor\u001b[0m \u001b[0;34m=\u001b[0m \u001b[0;34m'purple'\u001b[0m\u001b[0;34m)\u001b[0m\u001b[0;34m\u001b[0m\u001b[0;34m\u001b[0m\u001b[0m\n\u001b[1;32m     21\u001b[0m \u001b[0mplt\u001b[0m\u001b[0;34m.\u001b[0m\u001b[0mxlabel\u001b[0m\u001b[0;34m(\u001b[0m\u001b[0;34m'Timestep'\u001b[0m\u001b[0;34m)\u001b[0m\u001b[0;34m\u001b[0m\u001b[0;34m\u001b[0m\u001b[0m\n",
      "\u001b[0;31mNameError\u001b[0m: name 'time_points' is not defined"
     ]
    }
   ],
   "source": [
    "#Initialize data bacterial model and run Gauss-Newton iterations\n",
    "k = 10\n",
    "data = np.array( [0.19, 0.36, 0.69, 1.3, 2.5, 4.7, 8.5, 14])\n",
    "P = 1\n",
    "r = 1\n",
    "\n",
    "x_0 = [P, r]\n",
    "x = Gauss_Newton(x_0, data, k)\n",
    "\n",
    "\n",
    "#Visualize results from the iteration\n",
    "x1, x2 = x\n",
    "final_y_GN = []\n",
    "\n",
    "for t in range(8):\n",
    "    y = x1 * (x2**t)\n",
    "    final_y_GN.append(y)\n",
    "    \n",
    "plt.scatter(time_points, data, label='Actual Data Points')\n",
    "plt.plot(time_points, final_y_GN, label='Gauss-Newton approximation', color = 'purple')\n",
    "plt.xlabel('Timestep')\n",
    "plt.ylabel('Population in billions')\n",
    "plt.title('Gauss-Newton approximation of bacteria growth')\n",
    "plt.legend()\n",
    "plt.yscale('log')\n",
    "plt.show()"
   ]
  },
  {
   "cell_type": "markdown",
   "id": "b56e7014-dda8-4984-8fce-d0a5a16d046f",
   "metadata": {},
   "source": [
    "# (b)\n",
    "Let $f$ be a vector valued function $f = [ f_1, \\ldots, f_m ]^T$. In weighted least squares one aims to minimize the objective function\n",
    "$$\n",
    "  \\phi(x) = \\frac{1}{2} \\sum_{i=1}^m W_{ii} ( y_i - f_i(x)) ^2 , \\qquad\n",
    "  W_{ii} = \\frac{1}{\\sigma_i^2} , \n",
    "$$\n",
    "where $\\sigma_i$ is an estimate of the standard deviation in the data point $y_i$. This is equivalent to the standard least squares problem \n",
    "$$\n",
    "\\min_x \\frac{1}{2} \\| Y - F(x) \\|_2^2\n",
    "$$\n",
    "with $F_i(x) = \\frac{1}{\\sigma_i} f(x)$  , $Y_i = \\frac{1}{\\sigma_i} y_i$. Assume that for each data point $y_i$ in the list above, the estimate for the standard deviation is given by\n",
    "$$\n",
    "  \\sigma_i = 0.05 y_i .\n",
    "$$ \n",
    "Perform a weighted least squares fit to obtain estimates for $P_0$ and $r$. \n",
    "\n",
    "Plot the datapoints and the curve fitted to the data again in a semilogarithmic plot.\n",
    "\n",
    "Compare the residuals, i.e. the values of $y_i - f_i(x)$) obtained in (a) and (b), and discuss the differences between the results of the weighted and the unweighted optimization.\n"
   ]
  },
  {
   "cell_type": "code",
   "execution_count": 6,
   "id": "f0d3a80a-d0f0-4b9f-8004-95b4e8ba7550",
   "metadata": {},
   "outputs": [
    {
     "ename": "NameError",
     "evalue": "name 'time_points' is not defined",
     "output_type": "error",
     "traceback": [
      "\u001b[0;31m---------------------------------------------------------------------------\u001b[0m",
      "\u001b[0;31mNameError\u001b[0m                                 Traceback (most recent call last)",
      "\u001b[0;32m/tmp/ipykernel_108384/992299283.py\u001b[0m in \u001b[0;36m<module>\u001b[0;34m\u001b[0m\n\u001b[1;32m     34\u001b[0m     \u001b[0mfinal_y_WS\u001b[0m\u001b[0;34m.\u001b[0m\u001b[0mappend\u001b[0m\u001b[0;34m(\u001b[0m\u001b[0my\u001b[0m\u001b[0;34m)\u001b[0m\u001b[0;34m\u001b[0m\u001b[0;34m\u001b[0m\u001b[0m\n\u001b[1;32m     35\u001b[0m \u001b[0;34m\u001b[0m\u001b[0m\n\u001b[0;32m---> 36\u001b[0;31m \u001b[0mplt\u001b[0m\u001b[0;34m.\u001b[0m\u001b[0mscatter\u001b[0m\u001b[0;34m(\u001b[0m\u001b[0mtime_points\u001b[0m\u001b[0;34m,\u001b[0m \u001b[0mdata\u001b[0m\u001b[0;34m,\u001b[0m \u001b[0mlabel\u001b[0m\u001b[0;34m=\u001b[0m\u001b[0;34m'Actual Data Points'\u001b[0m\u001b[0;34m)\u001b[0m\u001b[0;34m\u001b[0m\u001b[0;34m\u001b[0m\u001b[0m\n\u001b[0m\u001b[1;32m     37\u001b[0m \u001b[0mplt\u001b[0m\u001b[0;34m.\u001b[0m\u001b[0mplot\u001b[0m\u001b[0;34m(\u001b[0m\u001b[0mtime_points\u001b[0m\u001b[0;34m,\u001b[0m \u001b[0mfinal_y_WS\u001b[0m\u001b[0;34m,\u001b[0m \u001b[0mlabel\u001b[0m\u001b[0;34m=\u001b[0m\u001b[0;34m'Least '\u001b[0m\u001b[0;34m,\u001b[0m \u001b[0mcolor\u001b[0m \u001b[0;34m=\u001b[0m \u001b[0;34m'purple'\u001b[0m\u001b[0;34m)\u001b[0m\u001b[0;34m\u001b[0m\u001b[0;34m\u001b[0m\u001b[0m\n\u001b[1;32m     38\u001b[0m \u001b[0mplt\u001b[0m\u001b[0;34m.\u001b[0m\u001b[0mxlabel\u001b[0m\u001b[0;34m(\u001b[0m\u001b[0;34m'Timestep'\u001b[0m\u001b[0;34m)\u001b[0m\u001b[0;34m\u001b[0m\u001b[0;34m\u001b[0m\u001b[0m\n",
      "\u001b[0;31mNameError\u001b[0m: name 'time_points' is not defined"
     ]
    }
   ],
   "source": [
    "def ModelFunction(x1, x2, t):\n",
    "    return x1*(x2**t)\n",
    "\n",
    "def WeightedLeastSquares(y, n, x0):\n",
    "    x1 = x0[0]\n",
    "    x2 = x0[1]\n",
    "    \n",
    "    sigma_i = [yi*0.05 for yi in y]\n",
    "    \n",
    "    def PhiFunction(vars):\n",
    "        x1, x2 = vars\n",
    "        f = [ModelFunction(x1, x2, t) for t in range(0, n)]\n",
    "\n",
    "        phi = 0\n",
    "        for i in range(n):\n",
    "            phi += (1/sigma_i[i])*(y[i] - f[i])**2\n",
    "\n",
    "        phi = 0.5*phi\n",
    "        return phi\n",
    "    \n",
    "    result = scipy.optimize.minimize(PhiFunction, [x1, x2])\n",
    "    return result.x\n",
    "\n",
    "\n",
    "data = np.array( [0.19, 0.36, 0.69, 1.3, 2.5, 4.7, 8.5, 14])\n",
    "x_approx = WeightedLeastSquares(data, 8, [1, 1])\n",
    "\n",
    "#Visualize results from the iteration\n",
    "x1, x2 = x_approx\n",
    "final_y_WS = []\n",
    "\n",
    "for t in range(8):\n",
    "    y = x1 * (x2**t)\n",
    "    final_y_WS.append(y)\n",
    "\n",
    "plt.scatter(time_points, data, label='Actual Data Points')\n",
    "plt.plot(time_points, final_y_WS, label='Least ', color = 'purple')\n",
    "plt.xlabel('Timestep')\n",
    "plt.ylabel('Population in billions')\n",
    "plt.title('Weighted least quares approximation of bacteria growth')\n",
    "plt.legend()\n",
    "plt.yscale('log')\n",
    "plt.show()"
   ]
  },
  {
   "cell_type": "code",
   "execution_count": null,
   "id": "3ce27288",
   "metadata": {},
   "outputs": [],
   "source": [
    "difference_GN = sum(np.abs(data - final_y_GN))\n",
    "difference_WS = sum(np.abs(data - final_y_WS))\n",
    "print(f\"The absolute sum of the residuals from the approximation derived through the unweighted Gauss-Newton method is {difference_GN}.\")\n",
    "print(f\"The absolute sum of the residuals from the approximation derived through the weighted least squares method (using scipy.minimize) is {difference_WS}.\")"
   ]
  },
  {
   "cell_type": "markdown",
   "id": "7af5e8f8",
   "metadata": {},
   "source": [
    "From our above observations we can observe that the approximation derived through the Gauss-Newton method results in a slightly smaller error than that of the weighted least squares. "
   ]
  },
  {
   "cell_type": "markdown",
   "id": "2f0cbd35-09de-449a-80d5-c4da70b394bc",
   "metadata": {},
   "source": [
    "# Exercise 2 (3 points)\n",
    "A triangle has been measured. The measurements, a vector $x \\in \\mathbb{R}^6$, are as follows:\n",
    "$$\\begin{array}{c|c|c|c|c|c}\n",
    "x_1 = \\alpha \n",
    "& x_2 = \\beta\n",
    "& x_3 = \\gamma\n",
    "& x_4 = a\n",
    "& x_5 = b\n",
    "& x_6 = c \\\\ \\hline\n",
    "67.5^{\\large\\circ}\n",
    "& 52^{\\large\\circ}\n",
    "& 60^{\\large\\circ}\n",
    "& 172 \\text{m}\n",
    "& 146 \\text{m}\n",
    "& 165 \\text{m}\n",
    "\\end{array} .\n",
    "$$\n",
    "Here $\\alpha, \\beta, \\gamma$ are the angles opposite the sides with length $a$, $b$, $c$, respectively.\n",
    "The measurements $x$ have errors. We would like to correct them so that the new values $\\tilde{x} = x + h$ are consistent quantities of a triangle. The have to satisfy:\n",
    "$$ \\tag{*}\n",
    "\\begin{array}{ccc}\n",
    "\\text{Sum of angles:} \n",
    "& \\;\\;\\;\\;\\; & \n",
    "\\tilde{x}_1 + \\tilde{x}_2 + \\tilde{x}_3 = 180^{\\large\\circ}\n",
    "\\\\\n",
    "\\text{Sine theorem:}\n",
    "&&\n",
    "\\tilde{x}_4 \\sin(\\tilde{x}_2) - \\tilde{x}_5 \\sin(\\tilde{x}_1) = 0\n",
    "\\\\\n",
    "&&\n",
    "\\tilde{x}_5 \\sin(\\tilde{x}_3) - \\tilde{x}_6 \\sin(\\tilde{x}_2) = 0 .\n",
    "\\end{array}$$\n"
   ]
  },
  {
   "cell_type": "markdown",
   "id": "a86c5137-9cf9-4f1e-9376-a2ca28ab2dd9",
   "metadata": {},
   "source": [
    "## (a)\n",
    "Solve the constrained least squares problem $\\min_x \\| h \\|_2^2$ subject to the constraints given by (*).\n",
    "\n",
    "Use `scipy.optimize.minimize`.\n",
    "\n",
    "Hint: Don't forget to work in radians!\n",
    "\n",
    "Check that for the new values also e.g. the cosine theorem $c^2 = a^2 + b^2 - 2 ab \\cos(\\gamma)$ holds."
   ]
  },
  {
   "cell_type": "code",
   "execution_count": 11,
   "id": "fd180378-9e14-4e45-ac0d-4dedd620303f",
   "metadata": {},
   "outputs": [
    {
     "name": "stdout",
     "output_type": "stream",
     "text": [
      "result is [-0.01169255 -0.01231171  0.0327309   0.0002013   0.00012197 -0.00032557], cosine theorm res is -1.2023519957438111e-08\n"
     ]
    }
   ],
   "source": [
    "x0 = np.array([67.5*(np.pi/180), 52*(np.pi/180), 60*(np.pi/180), 172, 146, 165])\n",
    "\n",
    "fun = lambda h: np.linalg.norm(h)**2\n",
    "\n",
    "cons = ({'type': 'eq', 'fun': lambda h: (x0[0] + h[0]) + (x0[1] + h[1]) + (x0[2] + h[2]) - np.pi},\n",
    "        {'type': 'eq', 'fun': lambda h: (x0[3] + h[3])*np.sin(x0[1] + h[1]) - (x0[4] + h[4])*np.sin(x0[0] + h[0]) },\n",
    "        {'type': 'eq', 'fun': lambda h: (x0[4] + h[4])*np.sin(x0[2] + h[2]) - (x0[5] + h[5])*np.sin(x0[1] + h[1]) })\n",
    "\n",
    "solution = scipy.optimize.minimize(fun, np.zeros(6), constraints=cons)\n",
    "h = solution.x\n",
    "\n",
    "x_new = x0 + h\n",
    "\n",
    "a = x_new[3]\n",
    "b = x_new[4]\n",
    "c = x_new[5]\n",
    "gamma = x_new[2]\n",
    "\n",
    "cosine_theorem_res = a**2 + b**2 - 2*a*b*np.cos(gamma) - c**2\n",
    "print(f\"result is {h}, cosine theorm res is {cosine_theorem_res}\")"
   ]
  },
  {
   "cell_type": "markdown",
   "id": "cb8f5e56-d57b-44f6-878f-d8d420d4d0a2",
   "metadata": {},
   "source": [
    "## (b)\n",
    "You will notice that the corrections will be made mainly to the angles and much less to the lengths of the sides of the triangle. This is because the measurements have not the same absolute errors. While the error in last digit of the sides is about 1, the errors in radians of the angles are about 0.01. Repeat your computation by taking in account with appropriate weighting the difference in measurement errors. Minimize not simply $\\| h \\|_2^2$ but\n",
    "$$\n",
    "  \\left\\| \\begin{bmatrix} 100 h_1 \\\\ 100 h_2 \\\\ 100 h_3 \\\\ h_4 \\\\ h_5 \\\\ h_6 \\end{bmatrix} \\right\\|_2^2.$$"
   ]
  },
  {
   "cell_type": "code",
   "execution_count": 24,
   "id": "dcc292e7-2304-4676-8d39-25f5a33246f6",
   "metadata": {},
   "outputs": [
    {
     "name": "stdout",
     "output_type": "stream",
     "text": [
      "New x: [  1.17615046   0.90182553   1.06361667 172.71863578 146.77295406\n",
      " 163.54791855]\n",
      "h is [-0.00194679 -0.00574568  0.01641912  0.71863578  0.77295406 -1.45208145],\n",
      "cosine theorm res is -1.947337295860052e-07\n"
     ]
    }
   ],
   "source": [
    "x0 = np.array([67.5*(np.pi/180), 52*(np.pi/180), 60*(np.pi/180), 172, 146, 165])\n",
    "\n",
    "fun = lambda h: np.linalg.norm([100*h[0], 100*h[1], 100*h[2], h[3], h[4], h[5]])**2\n",
    "cons = ({'type': 'eq', 'fun': lambda h: (x0[0] + h[0]) + (x0[1] + h[1]) + (x0[2] + h[2]) - np.pi},\n",
    "        {'type': 'eq', 'fun': lambda h: (x0[3] + h[3])*np.sin(x0[1] + h[1]) - (x0[4] + h[4])*np.sin(x0[0] + h[0]) },\n",
    "        {'type': 'eq', 'fun': lambda h: (x0[4] + h[4])*np.sin(x0[2] + h[2]) - (x0[5] + h[5])*np.sin(x0[1] + h[1]) })\n",
    "\n",
    "solution = scipy.optimize.minimize(fun, np.zeros(6), constraints=cons)\n",
    "h = solution.x\n",
    "\n",
    "print(f'New x: {x0 + h}')\n",
    "x_new = x0 + h\n",
    "\n",
    "a = x_new[3]\n",
    "b = x_new[4]\n",
    "c = x_new[5]\n",
    "gamma = x_new[2]\n",
    "\n",
    "cosine_theorem_res = a**2 + b**2 - 2*a*b*np.cos(gamma) - c**2\n",
    "print(f\"h is {h},\\ncosine theorm res is {cosine_theorem_res}\")"
   ]
  }
 ],
 "metadata": {
  "kernelspec": {
   "display_name": "Python 3 (ipykernel)",
   "language": "python",
   "name": "python3"
  },
  "language_info": {
   "codemirror_mode": {
    "name": "ipython",
    "version": 3
   },
   "file_extension": ".py",
   "mimetype": "text/x-python",
   "name": "python",
   "nbconvert_exporter": "python",
   "pygments_lexer": "ipython3",
   "version": "3.9.13"
  }
 },
 "nbformat": 4,
 "nbformat_minor": 5
}
