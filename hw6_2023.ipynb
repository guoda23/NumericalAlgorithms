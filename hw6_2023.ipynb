{
 "cells": [
  {
   "cell_type": "markdown",
   "id": "eb459a25-a4dd-415c-ba1f-ad86a4367214",
   "metadata": {
    "nbgrader": {
     "grade": false,
     "grade_id": "cell-06d3e5bf55c941ae",
     "locked": true,
     "schema_version": 3,
     "solution": false,
     "task": false
    },
    "tags": []
   },
   "source": [
    "# Homework set 6"
   ]
  },
  {
   "cell_type": "markdown",
   "id": "abe8d273-e303-413d-9abc-3fc0ccfa3595",
   "metadata": {
    "nbgrader": {
     "grade": false,
     "grade_id": "cell-736ff6bc3e0d0696",
     "locked": true,
     "schema_version": 3,
     "solution": false,
     "task": false
    }
   },
   "source": [
    "Before you turn this problem in, make sure everything runs as expected (in the menubar, select Kernel → Restart Kernel and Run All Cells...).\n",
    "\n",
    "Please **submit this Jupyter notebook through Canvas** no later than **Mon Dec. 11, 9:00**. **Submit the notebook file with your answers (as .ipynb file) and a pdf printout. The pdf version can be used by the teachers to provide feedback. A pdf version can be made using the save and export option in the Jupyter Lab file menu.**\n",
    "\n",
    "Homework is in **groups of two**, and you are expected to hand in original work. Work that is copied from another group will not be accepted."
   ]
  },
  {
   "cell_type": "markdown",
   "id": "923083fc-e388-4eb6-8b57-3f256593d94e",
   "metadata": {
    "nbgrader": {
     "grade": false,
     "grade_id": "cell-b13bc5ed16bce8e0",
     "locked": true,
     "schema_version": 3,
     "solution": false,
     "task": false
    }
   },
   "source": [
    "# Exercise 0\n",
    "Guoda Paulauskaite 12255076 & Chayenne Olumuyiwa 12055662"
   ]
  },
  {
   "cell_type": "markdown",
   "id": "4785f9c4-829c-4226-b999-948ebf5864a9",
   "metadata": {
    "nbgrader": {
     "grade": true,
     "grade_id": "cell-fd464f55ba436b1c",
     "locked": false,
     "points": 0,
     "schema_version": 3,
     "solution": true,
     "task": false
    }
   },
   "source": [
    "YOUR ANSWER HERE"
   ]
  },
  {
   "cell_type": "markdown",
   "id": "cf801bfc-3576-4853-8c5f-3f1f5d2a88c4",
   "metadata": {},
   "source": [
    "# About imports\n",
    "Please import the needed packages by yourself."
   ]
  },
  {
   "cell_type": "code",
   "execution_count": 21,
   "id": "89113fa5",
   "metadata": {},
   "outputs": [],
   "source": [
    "from scipy.integrate import quad as integral\n",
    "import numpy as np\n",
    "import matplotlib.pyplot as plt"
   ]
  },
  {
   "cell_type": "code",
   "execution_count": 22,
   "id": "168faa6c",
   "metadata": {},
   "outputs": [],
   "source": [
    "#predefine global variable for part c\n",
    "f_evals = 0"
   ]
  },
  {
   "cell_type": "markdown",
   "id": "ea5293e8-b5f4-42fa-a94d-b764aec592da",
   "metadata": {},
   "source": [
    "# Exercise 1\n",
    "N.B.1 tentative points for each part are: 2+1.5+2+2+1.5 (and one point for free gives 10).\n",
    "\n",
    "N.B.2 you are to implement the methods yourself.\n",
    "\n",
    "Given a function $f$, let $T(f,a,b,m)$ denote the composite trapezoid rule with $m$ subintervals over the interval $[a,b]$. \n",
    "## (a)\n",
    "Approximate the integral of $x^{-3}$ over $[a,b] = [ \\frac{1}{10}, 100 ]$ by the composite trapezoid rule $T(f,a,b,m)$ for $m = 2^k$. Find the smallest $k$ such that the exact error is less than $\\epsilon = 10^{-3}$. Explain the slow convergence."
   ]
  },
  {
   "cell_type": "code",
   "execution_count": 23,
   "id": "56024d22-5826-469f-b9a0-2b83b8eeed17",
   "metadata": {},
   "outputs": [],
   "source": [
    "def x_to_minus3(x):\n",
    "    '''Computes y = x^(-3).\n",
    "    Input: x, scalar value.\n",
    "    Output: y, scalar value.'''\n",
    "    global f_evals\n",
    "    f_evals += 1\n",
    "    return x**(-3)\n",
    "\n",
    "def TrapezoidApprox(f, a, b, m):\n",
    "    '''Computes an approximation of an integral using composite trapezoid rule.\n",
    "    Inputs: function f to be approximated, lower limit a, upper limit b, number of subintervals k.\n",
    "    Output: T_m, the approximation of the integral of function f between a and b.'''\n",
    "    h = (b-a)/m\n",
    "    \n",
    "    #Initiate composite trapezoid\n",
    "    rule with k subintervals\n",
    "    T_k = 0.5*f(a) + 0.5*f(b)\n",
    "    \n",
    "    for i in range(1, m):\n",
    "        x_i = a + i*h\n",
    "        T_k += f(x_i)\n",
    "      \n",
    "    T_k *= h\n",
    "    return T_k"
   ]
  },
  {
   "cell_type": "code",
   "execution_count": 24,
   "id": "93abb57d",
   "metadata": {},
   "outputs": [
    {
     "name": "stdout",
     "output_type": "stream",
     "text": [
      "Exact intergral value is: 49.99994999999998\n",
      "Final k is 18; error is 0.00036306889014525723; Approx: 50.00031306889012\n"
     ]
    }
   ],
   "source": [
    "#Apply trapezoid rule\n",
    "a, b = 0.1, 100\n",
    "k = 1\n",
    "m = 2**k\n",
    "error_tolerance = 10**(-3)\n",
    "exact_integral, _ = integral(x_to_minus3, a, b)\n",
    "print(f'Exact intergral value is: {exact_integral}')\n",
    "error = abs(exact_integral - TrapezoidApprox(x_to_minus3, a, b, m)) #init error value\n",
    "\n",
    "#Search for smallest k value that gives sufficiently small error\n",
    "while error >= error_tolerance:\n",
    "    k += 1\n",
    "    m = 2**k\n",
    "    error = abs(exact_integral - TrapezoidApprox(x_to_minus3, a, b, m))\n",
    "#     print(f'k is {k}, error is {error}, Approx: {TrapezoidApprox(x_to_minus3, a, b, m)}')\n",
    "\n",
    "print(f'Final k is {k}; error is {error}; Approx: {TrapezoidApprox(x_to_minus3, a, b, m)}')\n"
   ]
  },
  {
   "cell_type": "code",
   "execution_count": 25,
   "id": "8ac446c1",
   "metadata": {},
   "outputs": [
    {
     "data": {
      "text/plain": [
       "Text(0, 0.5, 'y')"
      ]
     },
     "execution_count": 25,
     "metadata": {},
     "output_type": "execute_result"
    },
    {
     "data": {
      "image/png": "[encoded data removed]",
      "text/plain": [
       "<Figure size 640x480 with 1 Axes>"
      ]
     },
     "metadata": {},
     "output_type": "display_data"
    }
   ],
   "source": [
    "#Investigate slow convergence by plotting\n",
    "x = np.linspace(a, b, 1000)\n",
    "plt.ylim(0, 1)\n",
    "plt.plot(x, x**(-3))\n",
    "plt.title('$y = x^{-3}$')\n",
    "plt.xlabel('x')\n",
    "plt.ylabel('y')"
   ]
  },
  {
   "cell_type": "markdown",
   "id": "2518a158-2ab1-412e-bb0c-fe57d53dc6e0",
   "metadata": {},
   "source": [
    "The function $f(x) = x^{-3}$ approaches infinity around $x = 0$ which means at the lower limit $a$ the function increases rapidly which poses problems for the trapezoid rule as this complex behaviour is difficult to capture for small $k$ values. Trapezoid rule relies on linear rapproximations and is particularly sensitive to such rapid changes such that determining a sufficient number of subintervals poses a challenge."
   ]
  },
  {
   "cell_type": "markdown",
   "id": "da3608cd-207d-4679-8fd1-5ee7611d3929",
   "metadata": {
    "tags": []
   },
   "source": [
    "## (b)\n",
    "\n",
    "To improve the convergence rate of the above problem, we may use an adaptive strategy, as discussed in the book and the lecture. Consider the following formulas for approximate integration\n",
    "$$\\begin{aligned}\n",
    "I_1(f,a,b) = {}& T(f,a,b,1) \\\\\n",
    "I_2(f,a,b) = {}& T(f,a,b,2) .\n",
    "\\end{aligned}$$\n",
    "Show, based on the error estimates for the trapezoid rule using the Taylor series (book example 8.2) that the error in $I_2$ can be estimated by a formula of the form \n",
    "$$E_2 = C (I_1 - I_2)$$\n",
    "and determine the constant $C$ (if you can't find $C$, you may take $C = 0.5$)."
   ]
  },
  {
   "cell_type": "markdown",
   "id": "06fd85c0-225e-497d-bab7-4104add465ca",
   "metadata": {},
   "source": []
  },
  {
   "cell_type": "markdown",
   "id": "6979c60b-8ecd-45bd-8b88-acecfdd03940",
   "metadata": {},
   "source": [
    "## (c)\n",
    "An adaptive strategy for computing the integral on an interval $[a,b]$ now is: Compute $I_2$ and $E_2$, and accept $I_2$ as an approximation when the estimated error $E_2$ is less or equal than a desired tolerance $\\epsilon$.  Otherwise, apply the procedure to \n",
    "$\\int_a^{\\frac{b+a}{2}} f(x) \\, dx$ and $\\int_{\\frac{b+a}{2}}^b f(x) \\, dx$ with tolerances $\\frac{\\epsilon}{2}$.\n",
    "\n",
    "Write a recursive python routine that implements the adaptive strategy.\n",
    "\n",
    "Then apply this routine to the function $x^{-3}$ with $a, b, \\epsilon$ as before. What is the exact error in the obtained approximation? "
   ]
  },
  {
   "cell_type": "code",
   "execution_count": 26,
   "id": "8f66a8b2-02e4-4ab0-9801-709b3d6d085f",
   "metadata": {},
   "outputs": [],
   "source": [
    "def AdaptiveTrapezoid(f, a, b, error_tolerance):\n",
    "    '''Uses an adaptive trapezoid approach to compute the integral of function f\n",
    "    between a and b with some allowed error tolerance.\n",
    "    Input: function f, lower limit a, upper limit b, error tolerance.\n",
    "    Output: Integral approximation of function f between a and b.  \n",
    "    '''\n",
    "    global f_evals\n",
    "    f_evals += 1\n",
    "    \n",
    "    I2 = TrapezoidApprox(f, a, b, 2)\n",
    "    I1 = TrapezoidApprox(f, a, b, 1)\n",
    "    E2 = 0.5 * (I1 - I2)\n",
    "    \n",
    "    if abs(E2) <= error_tolerance:\n",
    "        return I2\n",
    "    else:\n",
    "        #Split the integral\n",
    "        c = (a + b) / 2\n",
    "        left_half = AdaptiveTrapezoid(f, a, c, error_tolerance / 2)\n",
    "        right_half = AdaptiveTrapezoid(f, c, b, error_tolerance / 2)\n",
    "        return left_half + right_half "
   ]
  },
  {
   "cell_type": "code",
   "execution_count": 27,
   "id": "161f001b",
   "metadata": {},
   "outputs": [
    {
     "name": "stdout",
     "output_type": "stream",
     "text": [
      "Error: 0.0001887918220191409; Exact value: 49.99994999999998; Approximation: 50.000138791821996\n"
     ]
    }
   ],
   "source": [
    "a, b = 0.1, 100\n",
    "error_tolerance = 10**(-3)\n",
    "exact_integral, _ = integral(x_to_minus3, a, b)\n",
    "adaptive_approx = AdaptiveTrapezoid(x_to_minus3, a, b, error_tolerance)\n",
    "\n",
    "error = abs(exact_integral - adaptive_approx)\n",
    "print(f'Error: {error}; Exact value: {exact_integral}; Approximation: {adaptive_approx}')"
   ]
  },
  {
   "cell_type": "markdown",
   "id": "38054a2a-24b4-4467-8dad-4ad193400213",
   "metadata": {},
   "source": [
    "## (d)\n",
    "Modify the code of (c) so that the number of function evaluations is counted and that no unnecessary function evaluations are performed. Compare the number of function evaluations used in the adaptive strategy of (c) with the result of (a). \n",
    "(*Hint*: To count the number of function evaluations, you may use a global variable that is incremented by the function each time it is called.)"
   ]
  },
  {
   "cell_type": "code",
   "execution_count": 31,
   "id": "ed67a5aa-dba3-4da9-bb32-6f2a49096b30",
   "metadata": {},
   "outputs": [
    {
     "name": "stdout",
     "output_type": "stream",
     "text": [
      "Regular trapezoid rule function evaluations: 262145\n",
      "Adaptive trapezoid rule function evaluations: 71394\n",
      "The ratio is 3.67\n"
     ]
    }
   ],
   "source": [
    "a, b = 0.1, 100\n",
    "error_tolerance = 10**(-3)\n",
    "\n",
    "#Regular trapezoid rule function evaluations\n",
    "f_evals = 0\n",
    "k = 18\n",
    "m = 2**k\n",
    "TrapezoidApprox(x_to_minus3, a, b, m)\n",
    "f_evals_a = f_evals\n",
    "\n",
    "#Adaptive trapezoid rule function evaluations\n",
    "f_evals = 0\n",
    "AdaptiveTrapezoid(x_to_minus3, a, b, error_tolerance)\n",
    "f_evals_c = f_evals\n",
    "\n",
    "#Compare\n",
    "print(f'Regular trapezoid rule function evaluations: {f_evals_a}')\n",
    "print(f'Adaptive trapezoid rule function evaluations: {f_evals_c}')\n",
    "print(f'The ratio is {f_evals_a/f_evals_c:.2f}')\n"
   ]
  },
  {
   "cell_type": "markdown",
   "id": "280bce8f-5bb7-4900-9813-6b29149dd011",
   "metadata": {},
   "source": [
    "The result we found in (a) requires around 3.67 times more function evaluations as compared to the adaptive approach in (c). "
   ]
  },
  {
   "cell_type": "markdown",
   "id": "5d3709eb-4f5e-493a-865f-31f31510ea5e",
   "metadata": {},
   "source": [
    "## (e)\n",
    "In the course of executing the recursive procedure, some subintervals are refined (split in two subintervals) while others aren't as a result of the choices made by the algorithm. It turns out that the choices made by this algorithm are not always optimal. Other algorithms, that decide in a different way which subinterval needs to be refined, may be more efficient in the sense that they require less function evaluations (while using the same formulas for the approximate integral and the approximate error associated with a subinterval).\n",
    "\n",
    "Can you explain why this is the case? Discuss briefly possible alternative approaches.\n"
   ]
  },
  {
   "cell_type": "markdown",
   "id": "4384b2a4-1738-440c-bc1a-9531dca3e126",
   "metadata": {},
   "source": [
    "Other algorithms may sample subintervals differently instead of halving them every time like in our adaptive approach. Instead, subintervals can be sampled smarter. For instance, smaller (and more) subintervals can be taken in parts of the function where the integral is difficult to compute (for instance, in the asymptotic case close to x = 0 in $x^{-3}$. However, larger and fewer intervals can be taken in parts of the function where the integral is easy to compute (for instace the long tail of $x^{-3}$). This approach is called adaptive quadrature where we start with a few intervals and compute the error estimates. Then, we refine intervals with large errors (split intervals and recompute)."
   ]
  }
 ],
 "metadata": {
  "kernelspec": {
   "display_name": "Python 3 (ipykernel)",
   "language": "python",
   "name": "python3"
  },
  "language_info": {
   "codemirror_mode": {
    "name": "ipython",
    "version": 3
   },
   "file_extension": ".py",
   "mimetype": "text/x-python",
   "name": "python",
   "nbconvert_exporter": "python",
   "pygments_lexer": "ipython3",
   "version": "3.9.13"
  }
 },
 "nbformat": 4,
 "nbformat_minor": 5
}
